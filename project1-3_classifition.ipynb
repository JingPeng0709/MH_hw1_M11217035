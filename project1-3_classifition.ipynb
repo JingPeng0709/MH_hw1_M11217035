{
 "cells": [
  {
   "cell_type": "code",
   "execution_count": 72,
   "id": "764ef88d-a6a0-4e1a-a16f-ed5106f15782",
   "metadata": {},
   "outputs": [],
   "source": [
    "import re, csv, numpy as np, sys, pandas as pd\n",
    "from keras import models\n",
    "from keras.layers import Dense\n",
    "from keras.utils import to_categorical\n",
    "from keras.metrics import Recall, Precision\n",
    "from sklearn.preprocessing import OneHotEncoder"
   ]
  },
  {
   "cell_type": "code",
   "execution_count": 73,
   "id": "5bb0aa9c-628c-4813-9d4e-c2f30cda63b1",
   "metadata": {},
   "outputs": [],
   "source": [
    "skip = True\n",
    "\n",
    "with open('adult/adult_after.test','w', encoding='utf-8') as csvfile:\n",
    "    with open('adult/adult.test', 'r', newline='') as filein:\n",
    "        for line in filein:\n",
    "            if skip:\n",
    "                skip=False\n",
    "                continue\n",
    "            flage = 0\n",
    "            for i in range(1,len(line)):\n",
    "                if(line[i] == '?'):\n",
    "                    flage+=1\n",
    "            if flage == 0:\n",
    "                csvfile.write(line[:-2]+'\\n')\n",
    "\n",
    "with open('adult/adult_after.data','w', encoding='utf-8') as csvfile:\n",
    "    with open('adult/adult.data', 'r', newline='') as filein:\n",
    "        for line in filein:\n",
    "            flage = 0\n",
    "            for i in range(0,len(line)):\n",
    "                if(line[i] == '?'):\n",
    "                    flage+=1\n",
    "            if flage == 0:\n",
    "                csvfile.write(line)"
   ]
  },
  {
   "cell_type": "code",
   "execution_count": 74,
   "id": "560b21a9-f9d4-4b81-92c5-0587c94428f1",
   "metadata": {},
   "outputs": [],
   "source": [
    "adult = pd.read_csv('adult/adult_after.data', header=None)\n",
    "adult_test = pd.read_csv('adult/adult_after.test', skiprows=[0], header=None)\n",
    "\n",
    "x = adult.iloc[:,:-1]\n",
    "y = adult.iloc[:,-1:]\n",
    "\n",
    "test_x = adult_test.iloc[:,:-1]\n",
    "test_y = adult_test.iloc[:,-1:]"
   ]
  },
  {
   "cell_type": "code",
   "execution_count": 54,
   "id": "672796e9-5c21-4a18-916a-5193a490eaf1",
   "metadata": {},
   "outputs": [],
   "source": [
    "ohe_x = OneHotEncoder(handle_unknown='ignore')\n",
    "ohe_x.fit(x)\n",
    "ohe_y = OneHotEncoder(handle_unknown='ignore')\n",
    "ohe_y.fit(y)\n",
    "#print(ohe.transform(x).toarray())\n",
    "X_train = ohe_x.transform(x).toarray()\n",
    "X_test = ohe_x.transform(test_x).toarray()\n",
    "Y_train = ohe_y.transform(y).toarray()\n",
    "Y_test = ohe_y.transform(test_y).toarray()\n",
    "#print(X_train, X_test, Y_train, Y_test, y, test_y)"
   ]
  },
  {
   "cell_type": "code",
   "execution_count": 75,
   "id": "7c0e387b-02f6-46b5-90a7-608190ca714d",
   "metadata": {},
   "outputs": [],
   "source": [
    "def classifier_model_build(Xlen):\n",
    "    model = models.Sequential()\n",
    "    model.add(Dense(80, activation='relu', input_dim=Xlen))\n",
    "    model.add(Dense(100, activation='relu'))\n",
    "    model.add(Dense(2, activation='softmax'))\n",
    "    model.compile(optimizer='rmsprop', loss='categorical_crossentropy',metrics=['accuracy', Recall(), Precision()])\n",
    "    return model"
   ]
  },
  {
   "cell_type": "code",
   "execution_count": 16,
   "id": "4c1fa53e-b007-42ac-859a-6ab44bef9b4b",
   "metadata": {},
   "outputs": [
    {
     "name": "stdout",
     "output_type": "stream",
     "text": [
      "Epoch 1/25\n",
      "101/101 [==============================] - 3s 18ms/step - loss: 0.3443 - accuracy: 0.8434 - recall_1: 0.8434 - precision_1: 0.8434\n",
      "Epoch 2/25\n",
      "101/101 [==============================] - 2s 18ms/step - loss: 0.2723 - accuracy: 0.8780 - recall_1: 0.8780 - precision_1: 0.8780\n",
      "Epoch 3/25\n",
      "101/101 [==============================] - 2s 18ms/step - loss: 0.2378 - accuracy: 0.8957 - recall_1: 0.8957 - precision_1: 0.8957\n",
      "Epoch 4/25\n",
      "101/101 [==============================] - 2s 18ms/step - loss: 0.2052 - accuracy: 0.9118 - recall_1: 0.9118 - precision_1: 0.9118\n",
      "Epoch 5/25\n",
      "101/101 [==============================] - 2s 18ms/step - loss: 0.1744 - accuracy: 0.9274 - recall_1: 0.9274 - precision_1: 0.9274\n",
      "Epoch 6/25\n",
      "101/101 [==============================] - 2s 18ms/step - loss: 0.1470 - accuracy: 0.9407 - recall_1: 0.9407 - precision_1: 0.9407\n",
      "Epoch 7/25\n",
      "101/101 [==============================] - 2s 18ms/step - loss: 0.1280 - accuracy: 0.9504 - recall_1: 0.9504 - precision_1: 0.9504\n",
      "Epoch 8/25\n",
      "101/101 [==============================] - 2s 19ms/step - loss: 0.1120 - accuracy: 0.9546 - recall_1: 0.9546 - precision_1: 0.9546\n",
      "Epoch 9/25\n",
      "101/101 [==============================] - 2s 17ms/step - loss: 0.0960 - accuracy: 0.9624 - recall_1: 0.9624 - precision_1: 0.9624\n",
      "Epoch 10/25\n",
      "101/101 [==============================] - 2s 18ms/step - loss: 0.0840 - accuracy: 0.9663 - recall_1: 0.9663 - precision_1: 0.9663\n",
      "Epoch 11/25\n",
      "101/101 [==============================] - 2s 18ms/step - loss: 0.0703 - accuracy: 0.9725 - recall_1: 0.9725 - precision_1: 0.9725\n",
      "Epoch 12/25\n",
      "101/101 [==============================] - 2s 18ms/step - loss: 0.0612 - accuracy: 0.9763 - recall_1: 0.9763 - precision_1: 0.9763\n",
      "Epoch 13/25\n",
      "101/101 [==============================] - 2s 18ms/step - loss: 0.0501 - accuracy: 0.9806 - recall_1: 0.9806 - precision_1: 0.9806\n",
      "Epoch 14/25\n",
      "101/101 [==============================] - 2s 17ms/step - loss: 0.0413 - accuracy: 0.9844 - recall_1: 0.9844 - precision_1: 0.9844\n",
      "Epoch 15/25\n",
      "101/101 [==============================] - 2s 18ms/step - loss: 0.0320 - accuracy: 0.9887 - recall_1: 0.9887 - precision_1: 0.9887\n",
      "Epoch 16/25\n",
      "101/101 [==============================] - 2s 18ms/step - loss: 0.0257 - accuracy: 0.9908 - recall_1: 0.9908 - precision_1: 0.9908\n",
      "Epoch 17/25\n",
      "101/101 [==============================] - 2s 18ms/step - loss: 0.0205 - accuracy: 0.9922 - recall_1: 0.9922 - precision_1: 0.9922\n",
      "Epoch 18/25\n",
      "101/101 [==============================] - 2s 18ms/step - loss: 0.0150 - accuracy: 0.9944 - recall_1: 0.9944 - precision_1: 0.9944\n",
      "Epoch 19/25\n",
      "101/101 [==============================] - 2s 18ms/step - loss: 0.0116 - accuracy: 0.9959 - recall_1: 0.9959 - precision_1: 0.9959\n",
      "Epoch 20/25\n",
      "101/101 [==============================] - 2s 17ms/step - loss: 0.0084 - accuracy: 0.9970 - recall_1: 0.9970 - precision_1: 0.9970\n",
      "Epoch 21/25\n",
      "101/101 [==============================] - 2s 18ms/step - loss: 0.0061 - accuracy: 0.9977 - recall_1: 0.9977 - precision_1: 0.9977\n",
      "Epoch 22/25\n",
      "101/101 [==============================] - 2s 18ms/step - loss: 0.0041 - accuracy: 0.9987 - recall_1: 0.9987 - precision_1: 0.9987\n",
      "Epoch 23/25\n",
      "101/101 [==============================] - 2s 17ms/step - loss: 0.0031 - accuracy: 0.9990 - recall_1: 0.9990 - precision_1: 0.9990\n",
      "Epoch 24/25\n",
      "101/101 [==============================] - 2s 18ms/step - loss: 0.0021 - accuracy: 0.9992 - recall_1: 0.9992 - precision_1: 0.9992\n",
      "Epoch 25/25\n",
      "101/101 [==============================] - 2s 18ms/step - loss: 0.0017 - accuracy: 0.9994 - recall_1: 0.9994 - precision_1: 0.9994\n"
     ]
    },
    {
     "data": {
      "text/plain": [
       "<keras.callbacks.History at 0x2a73502b8e0>"
      ]
     },
     "execution_count": 16,
     "metadata": {},
     "output_type": "execute_result"
    }
   ],
   "source": [
    "cls_mld = classifier_model_build(len(X_train[0]))\n",
    "cls_mld.fit(X_train, Y_train, epochs = 25, batch_size = 300)"
   ]
  },
  {
   "cell_type": "code",
   "execution_count": 17,
   "id": "947a1d24-eefa-4703-9e26-62c50a4758a9",
   "metadata": {},
   "outputs": [
    {
     "name": "stdout",
     "output_type": "stream",
     "text": [
      "471/471 [==============================] - 2s 4ms/step - loss: 1.6053 - accuracy: 0.7811 - recall_1: 0.7811 - precision_1: 0.7811\n"
     ]
    }
   ],
   "source": [
    "test_loss, test_acc, test_recall, test_precision = cls_mld.evaluate(X_test, Y_test)"
   ]
  },
  {
   "cell_type": "code",
   "execution_count": 18,
   "id": "132ad4c2-afb8-4859-b7c3-0744f33edbdd",
   "metadata": {},
   "outputs": [
    {
     "name": "stdout",
     "output_type": "stream",
     "text": [
      "acc: 0.7811275720596313\n",
      "loss: 1.6052722930908203\n",
      "recall: 0.7811275720596313\n",
      "precision: 0.7811275720596313\n"
     ]
    }
   ],
   "source": [
    "print('acc:', test_acc)\n",
    "print('loss:', test_loss)\n",
    "print('recall:', test_recall)\n",
    "print('precision:', test_precision)"
   ]
  },
  {
   "cell_type": "code",
   "execution_count": null,
   "id": "7a1894e5-96e2-4bee-b593-685f1d7639a7",
   "metadata": {},
   "outputs": [],
   "source": []
  }
 ],
 "metadata": {
  "kernelspec": {
   "display_name": "Python 3 (ipykernel)",
   "language": "python",
   "name": "python3"
  },
  "language_info": {
   "codemirror_mode": {
    "name": "ipython",
    "version": 3
   },
   "file_extension": ".py",
   "mimetype": "text/x-python",
   "name": "python",
   "nbconvert_exporter": "python",
   "pygments_lexer": "ipython3",
   "version": "3.10.14"
  }
 },
 "nbformat": 4,
 "nbformat_minor": 5
}

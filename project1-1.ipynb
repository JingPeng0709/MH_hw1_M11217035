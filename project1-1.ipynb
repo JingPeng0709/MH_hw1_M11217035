{
 "cells": [
  {
   "cell_type": "code",
   "execution_count": 1,
   "id": "e64bd3d1-4106-48ac-a7a8-50926f34acb7",
   "metadata": {},
   "outputs": [],
   "source": [
    "from keras.datasets import mnist\n",
    "from keras import models\n",
    "from keras import layers\n",
    "from keras.utils import to_categorical\n",
    "from keras.metrics import Recall, Precision"
   ]
  },
  {
   "cell_type": "code",
   "execution_count": 2,
   "id": "d33e57cf-3a76-4be3-a34a-10447a13cdcb",
   "metadata": {},
   "outputs": [],
   "source": [
    "(X_train, y_train), (X_test, y_test) = mnist.load_data()\n",
    "network = models.Sequential()\n",
    "network.add(layers.Dense(1000, activation='relu', \n",
    "                         input_shape=(28 * 28,)))\n",
    "network.add(layers.Dense(10, activation='softmax'))\n",
    "network.compile(optimizer='rmsprop', loss='categorical_crossentropy'\n",
    "                ,metrics=['accuracy', Recall(), Precision()])"
   ]
  },
  {
   "cell_type": "code",
   "execution_count": 3,
   "id": "373426ca-4cb5-4e33-8dca-7a505e9494e2",
   "metadata": {},
   "outputs": [],
   "source": [
    "X_train = X_train.reshape((60000, 28 * 28))\n",
    "X_train = X_train.astype('float32') / 255           #normalization\n",
    "X_test = X_test.reshape((10000, 28 * 28))\n",
    "X_test = X_test.astype('float32') / 255\n",
    "train_labels = to_categorical(y_train)\n",
    "test_labels = to_categorical(y_test)"
   ]
  },
  {
   "cell_type": "code",
   "execution_count": 4,
   "id": "f5f007cd-4f4e-4bad-b7e8-8a25a4f8d41f",
   "metadata": {},
   "outputs": [
    {
     "name": "stdout",
     "output_type": "stream",
     "text": [
      "Epoch 1/20\n",
      "200/200 [==============================] - 2s 4ms/step - loss: 0.2991 - accuracy: 0.9128 - recall: 0.8798 - precision: 0.9479\n",
      "Epoch 2/20\n",
      "200/200 [==============================] - 1s 4ms/step - loss: 0.1162 - accuracy: 0.9656 - recall: 0.9598 - precision: 0.9727\n",
      "Epoch 3/20\n",
      "200/200 [==============================] - 1s 4ms/step - loss: 0.0739 - accuracy: 0.9779 - recall: 0.9745 - precision: 0.9818\n",
      "Epoch 4/20\n",
      "200/200 [==============================] - 1s 4ms/step - loss: 0.0515 - accuracy: 0.9845 - recall: 0.9825 - precision: 0.9868\n",
      "Epoch 5/20\n",
      "200/200 [==============================] - 1s 4ms/step - loss: 0.0380 - accuracy: 0.9886 - recall: 0.9870 - precision: 0.9901\n",
      "Epoch 6/20\n",
      "200/200 [==============================] - 1s 4ms/step - loss: 0.0281 - accuracy: 0.9918 - recall: 0.9909 - precision: 0.9926\n",
      "Epoch 7/20\n",
      "200/200 [==============================] - 1s 4ms/step - loss: 0.0210 - accuracy: 0.9939 - recall: 0.9933 - precision: 0.9945\n",
      "Epoch 8/20\n",
      "200/200 [==============================] - 1s 4ms/step - loss: 0.0159 - accuracy: 0.9957 - recall: 0.9953 - precision: 0.9961\n",
      "Epoch 9/20\n",
      "200/200 [==============================] - 1s 4ms/step - loss: 0.0117 - accuracy: 0.9967 - recall: 0.9964 - precision: 0.9970\n",
      "Epoch 10/20\n",
      "200/200 [==============================] - 1s 4ms/step - loss: 0.0094 - accuracy: 0.9973 - recall: 0.9971 - precision: 0.9974\n",
      "Epoch 11/20\n",
      "200/200 [==============================] - 1s 4ms/step - loss: 0.0072 - accuracy: 0.9980 - recall: 0.9979 - precision: 0.9981\n",
      "Epoch 12/20\n",
      "200/200 [==============================] - 1s 4ms/step - loss: 0.0055 - accuracy: 0.9986 - recall: 0.9985 - precision: 0.9986\n",
      "Epoch 13/20\n",
      "200/200 [==============================] - 1s 5ms/step - loss: 0.0040 - accuracy: 0.9990 - recall: 0.9990 - precision: 0.9991\n",
      "Epoch 14/20\n",
      "200/200 [==============================] - 1s 4ms/step - loss: 0.0036 - accuracy: 0.9991 - recall: 0.9990 - precision: 0.9991\n",
      "Epoch 15/20\n",
      "200/200 [==============================] - 1s 4ms/step - loss: 0.0025 - accuracy: 0.9995 - recall: 0.9995 - precision: 0.9995\n",
      "Epoch 16/20\n",
      "200/200 [==============================] - 1s 4ms/step - loss: 0.0021 - accuracy: 0.9996 - recall: 0.9995 - precision: 0.9996\n",
      "Epoch 17/20\n",
      "200/200 [==============================] - 1s 4ms/step - loss: 0.0016 - accuracy: 0.9996 - recall: 0.9996 - precision: 0.9996\n",
      "Epoch 18/20\n",
      "200/200 [==============================] - 1s 4ms/step - loss: 0.0014 - accuracy: 0.9996 - recall: 0.9996 - precision: 0.9996\n",
      "Epoch 19/20\n",
      "200/200 [==============================] - 1s 4ms/step - loss: 0.0011 - accuracy: 0.9996 - recall: 0.9996 - precision: 0.9996\n",
      "Epoch 20/20\n",
      "200/200 [==============================] - 1s 4ms/step - loss: 9.9668e-04 - accuracy: 0.9998 - recall: 0.9998 - precision: 0.9998\n",
      "313/313 [==============================] - 1s 3ms/step - loss: 0.0915 - accuracy: 0.9796 - recall: 0.9795 - precision: 0.9803\n"
     ]
    }
   ],
   "source": [
    "network.fit(X_train, train_labels, epochs=20, batch_size=300)\n",
    "test_loss, test_acc, test_recall, test_precision = network.evaluate(X_test, test_labels)"
   ]
  },
  {
   "cell_type": "code",
   "execution_count": 5,
   "id": "7e6544c5-1db4-4d7b-9e0d-5267424305f7",
   "metadata": {},
   "outputs": [
    {
     "name": "stdout",
     "output_type": "stream",
     "text": [
      "acc: 0.9796000123023987\n",
      "loss: 0.09149704873561859\n",
      "recall: 0.9794999957084656\n",
      "precision: 0.9802842140197754\n"
     ]
    }
   ],
   "source": [
    "print('acc:', test_acc)\n",
    "print('loss:', test_loss)\n",
    "print('recall:', test_recall)\n",
    "print('precision:', test_precision)"
   ]
  },
  {
   "cell_type": "code",
   "execution_count": null,
   "id": "5b062e28-e893-4313-baf8-b153a45d1372",
   "metadata": {},
   "outputs": [],
   "source": []
  }
 ],
 "metadata": {
  "kernelspec": {
   "display_name": "Python 3 (ipykernel)",
   "language": "python",
   "name": "python3"
  },
  "language_info": {
   "codemirror_mode": {
    "name": "ipython",
    "version": 3
   },
   "file_extension": ".py",
   "mimetype": "text/x-python",
   "name": "python",
   "nbconvert_exporter": "python",
   "pygments_lexer": "ipython3",
   "version": "3.10.14"
  }
 },
 "nbformat": 4,
 "nbformat_minor": 5
}
